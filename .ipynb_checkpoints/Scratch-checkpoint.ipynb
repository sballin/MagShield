{
 "cells": [
  {
   "cell_type": "code",
   "execution_count": 30,
   "metadata": {},
   "outputs": [
    {
     "data": {
      "text/plain": [
       "\u001b[1;31mDocstring:\u001b[0m\n",
       "arange([start,] stop[, step,], dtype=None)\n",
       "\n",
       "Return evenly spaced values within a given interval.\n",
       "\n",
       "Values are generated within the half-open interval ``[start, stop)``\n",
       "(in other words, the interval including `start` but excluding `stop`).\n",
       "For integer arguments the function is equivalent to the Python built-in\n",
       "`range <http://docs.python.org/lib/built-in-funcs.html>`_ function,\n",
       "but returns an ndarray rather than a list.\n",
       "\n",
       "When using a non-integer step, such as 0.1, the results will often not\n",
       "be consistent.  It is better to use ``linspace`` for these cases.\n",
       "\n",
       "Parameters\n",
       "----------\n",
       "start : number, optional\n",
       "    Start of interval.  The interval includes this value.  The default\n",
       "    start value is 0.\n",
       "stop : number\n",
       "    End of interval.  The interval does not include this value, except\n",
       "    in some cases where `step` is not an integer and floating point\n",
       "    round-off affects the length of `out`.\n",
       "step : number, optional\n",
       "    Spacing between values.  For any output `out`, this is the distance\n",
       "    between two adjacent values, ``out[i+1] - out[i]``.  The default\n",
       "    step size is 1.  If `step` is specified as a position argument,\n",
       "    `start` must also be given.\n",
       "dtype : dtype\n",
       "    The type of the output array.  If `dtype` is not given, infer the data\n",
       "    type from the other input arguments.\n",
       "\n",
       "Returns\n",
       "-------\n",
       "arange : ndarray\n",
       "    Array of evenly spaced values.\n",
       "\n",
       "    For floating point arguments, the length of the result is\n",
       "    ``ceil((stop - start)/step)``.  Because of floating point overflow,\n",
       "    this rule may result in the last element of `out` being greater\n",
       "    than `stop`.\n",
       "\n",
       "See Also\n",
       "--------\n",
       "linspace : Evenly spaced numbers with careful handling of endpoints.\n",
       "ogrid: Arrays of evenly spaced numbers in N-dimensions.\n",
       "mgrid: Grid-shaped arrays of evenly spaced numbers in N-dimensions.\n",
       "\n",
       "Examples\n",
       "--------\n",
       ">>> np.arange(3)\n",
       "array([0, 1, 2])\n",
       ">>> np.arange(3.0)\n",
       "array([ 0.,  1.,  2.])\n",
       ">>> np.arange(3,7)\n",
       "array([3, 4, 5, 6])\n",
       ">>> np.arange(3,7,2)\n",
       "array([3, 5])\n",
       "\u001b[1;31mType:\u001b[0m      builtin_function_or_method\n"
      ]
     },
     "metadata": {},
     "output_type": "display_data"
    }
   ],
   "source": [
    "np.arange?"
   ]
  },
  {
   "cell_type": "code",
   "execution_count": 28,
   "metadata": {},
   "outputs": [
    {
     "data": {
      "text/plain": [
       "array([1.03030303, 1.03030303, 1.03030303, 1.03030303, 1.03030303,\n",
       "       1.03030303, 1.03030303, 1.03030303, 1.03030303, 1.03030303,\n",
       "       1.03030303, 1.03030303, 1.03030303, 1.03030303, 1.03030303,\n",
       "       1.03030303, 1.03030303, 1.03030303, 1.03030303, 1.03030303,\n",
       "       1.03030303, 1.03030303, 1.03030303, 1.03030303, 1.03030303,\n",
       "       1.03030303, 1.03030303, 1.03030303, 1.03030303, 1.03030303,\n",
       "       1.03030303, 1.03030303, 1.03030303, 1.03030303, 1.03030303,\n",
       "       1.03030303, 1.03030303, 1.03030303, 1.03030303, 1.03030303,\n",
       "       1.03030303, 1.03030303, 1.03030303, 1.03030303, 1.03030303,\n",
       "       1.03030303, 1.03030303, 1.03030303, 1.03030303, 1.03030303,\n",
       "       1.03030303, 1.03030303, 1.03030303, 1.03030303, 1.03030303,\n",
       "       1.03030303, 1.03030303, 1.03030303, 1.03030303, 1.03030303,\n",
       "       1.03030303, 1.03030303, 1.03030303, 1.03030303, 1.03030303,\n",
       "       1.03030303, 1.03030303, 1.03030303, 1.03030303, 1.03030303,\n",
       "       1.03030303, 1.03030303, 1.03030303, 1.03030303, 1.03030303,\n",
       "       1.03030303, 1.03030303, 1.03030303, 1.03030303, 1.03030303,\n",
       "       1.03030303, 1.03030303, 1.03030303, 1.03030303, 1.03030303,\n",
       "       1.03030303, 1.03030303, 1.03030303, 1.03030303, 1.03030303,\n",
       "       1.03030303, 1.03030303, 1.03030303, 1.03030303, 1.03030303,\n",
       "       1.03030303, 1.03030303, 1.03030303, 1.03030303, 1.03030303,\n",
       "       1.03030303, 1.03030303, 1.03030303, 1.03030303, 1.03030303,\n",
       "       1.03030303, 1.03030303, 1.03030303, 1.03030303, 1.03030303,\n",
       "       1.03030303, 1.03030303, 1.03030303, 1.03030303, 1.03030303,\n",
       "       1.03030303, 1.03030303, 1.03030303, 1.03030303, 1.03030303,\n",
       "       1.03030303, 1.03030303, 1.03030303, 1.03030303, 1.03030303,\n",
       "       1.03030303, 1.03030303, 1.03030303, 1.03030303, 1.03030303,\n",
       "       1.03030303, 1.03030303, 1.03030303, 1.03030303, 1.03030303,\n",
       "       1.03030303, 1.03030303, 1.03030303, 1.03030303, 1.03030303,\n",
       "       1.03030303, 1.03030303, 1.03030303, 1.03030303, 1.03030303,\n",
       "       1.03030303, 1.03030303, 1.03030303, 1.03030303, 1.03030303,\n",
       "       1.03030303, 1.03030303, 1.03030303, 1.03030303, 1.03030303,\n",
       "       1.03030303, 1.03030303, 1.03030303, 1.03030303, 1.03030303,\n",
       "       1.03030303, 1.03030303, 1.03030303, 1.03030303, 1.03030303,\n",
       "       1.03030303, 1.03030303, 1.03030303, 1.03030303, 1.03030303,\n",
       "       1.03030303, 1.03030303, 1.03030303, 1.03030303, 1.03030303,\n",
       "       1.03030303, 1.03030303, 1.03030303, 1.03030303, 1.03030303,\n",
       "       1.03030303, 1.03030303, 1.03030303, 1.03030303, 1.03030303,\n",
       "       1.03030303, 1.03030303, 1.03030303, 1.03030303, 1.03030303,\n",
       "       1.03030303, 1.03030303, 1.03030303, 1.03030303, 1.03030303,\n",
       "       1.03030303, 1.03030303, 1.03030303, 1.03030303, 1.03030303])"
      ]
     },
     "execution_count": 28,
     "metadata": {},
     "output_type": "execute_result"
    }
   ],
   "source": [
    "grid_x, grid_y = np.mgrid[0:2:100j, 0:1:200j]\n",
    "grid_x[51]"
   ]
  },
  {
   "cell_type": "code",
   "execution_count": 70,
   "metadata": {},
   "outputs": [
    {
     "data": {
      "text/plain": [
       "<matplotlib.colorbar.Colorbar at 0x119f5eb00>"
      ]
     },
     "execution_count": 70,
     "metadata": {},
     "output_type": "execute_result"
    },
    {
     "data": {
      "image/png": "[encoded data removed]",
      "text/plain": [
       "<Figure size 432x288 with 2 Axes>"
      ]
     },
     "metadata": {
      "image/png": {
       "height": 235,
       "width": 364
      }
     },
     "output_type": "display_data"
    }
   ],
   "source": [
    "%matplotlib inline\n",
    "%config InlineBackend.figure_format = 'retina' #png\n",
    "import numpy as np\n",
    "from scipy.interpolate import griddata\n",
    "\n",
    "with open('Bzs.txt') as csvfile:\n",
    "    vals = []\n",
    "    for line in csvfile:\n",
    "        if '%' not in line:\n",
    "            vals.append([float(n) for n in line.split()])\n",
    "vals = np.array(vals)\n",
    "\n",
    "from scipy.interpolate import interp2d\n",
    "import matplotlib.pyplot as plt\n",
    "r = np.arange(np.min(vals[:,0]), np.max(vals[:,0]), .1)\n",
    "z = np.arange(np.min(vals[:,1]), np.max(vals[:,1]), .1)\n",
    "grid_r, grid_z = np.meshgrid(r, z)\n",
    "grid = griddata(vals[:, :2], vals[:, 2], (grid_r, grid_z))\n",
    "f = interp2d(r, z, grid, kind='cubic') \n",
    "im = np.zeros((len(r), len(z)))\n",
    "for i, R in enumerate(r):\n",
    "    for j, Z in enumerate(z):\n",
    "        im[i, j] = f(R, Z)\n",
    "plt.imshow(im)\n",
    "plt.colorbar()"
   ]
  },
  {
   "cell_type": "code",
   "execution_count": null,
   "metadata": {},
   "outputs": [],
   "source": []
  }
 ],
 "metadata": {
  "kernelspec": {
   "display_name": "Python 3",
   "language": "python",
   "name": "python3"
  },
  "language_info": {
   "codemirror_mode": {
    "name": "ipython",
    "version": 3
   },
   "file_extension": ".py",
   "mimetype": "text/x-python",
   "name": "python",
   "nbconvert_exporter": "python",
   "pygments_lexer": "ipython3",
   "version": "3.7.0"
  }
 },
 "nbformat": 4,
 "nbformat_minor": 2
}
